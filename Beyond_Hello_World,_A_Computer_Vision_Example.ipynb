{
  "nbformat": 4,
  "nbformat_minor": 0,
  "metadata": {
    "colab": {
      "name": "Beyond Hello World, A Computer Vision Example.ipynb",
      "provenance": [],
      "collapsed_sections": [],
      "authorship_tag": "ABX9TyNT9ZBVPI2KziT2dyQuG4Lu",
      "include_colab_link": true
    },
    "kernelspec": {
      "name": "python3",
      "display_name": "Python 3"
    },
    "language_info": {
      "name": "python"
    }
  },
  "cells": [
    {
      "cell_type": "markdown",
      "metadata": {
        "id": "view-in-github",
        "colab_type": "text"
      },
      "source": [
        "<a href=\"https://colab.research.google.com/github/Tonyndungu-git/fashion_mnist_tf_project/blob/main/Beyond_Hello_World%2C_A_Computer_Vision_Example.ipynb\" target=\"_parent\"><img src=\"https://colab.research.google.com/assets/colab-badge.svg\" alt=\"Open In Colab\"/></a>"
      ]
    },
    {
      "cell_type": "code",
      "execution_count": null,
      "metadata": {
        "colab": {
          "base_uri": "https://localhost:8080/"
        },
        "id": "aBqqNZmnXNMM",
        "outputId": "d121ec2a-5927-4389-eea8-99909b35b39a"
      },
      "outputs": [
        {
          "output_type": "stream",
          "name": "stdout",
          "text": [
            "2.8.0\n"
          ]
        }
      ],
      "source": [
        "import tensorflow as tf\n",
        "\n",
        "print(tf.__version__)"
      ]
    },
    {
      "cell_type": "code",
      "source": [
        "# Load the Fashion MNIST dataset\n",
        "fmnist = tf.keras.datasets.fashion_mnist"
      ],
      "metadata": {
        "id": "748XCH8gXdAw"
      },
      "execution_count": null,
      "outputs": []
    },
    {
      "cell_type": "code",
      "source": [
        "# Load the training and test split of the Fashion MNIST dataset\n",
        "(training_images, training_labels), (test_images, test_labels) = fmnist.load_data()\n"
      ],
      "metadata": {
        "id": "GQdcl0JSXkZ1",
        "colab": {
          "base_uri": "https://localhost:8080/"
        },
        "outputId": "716538e5-8bdd-429b-d057-465dca6a6b8b"
      },
      "execution_count": null,
      "outputs": [
        {
          "output_type": "stream",
          "name": "stdout",
          "text": [
            "Downloading data from https://storage.googleapis.com/tensorflow/tf-keras-datasets/train-labels-idx1-ubyte.gz\n",
            "32768/29515 [=================================] - 0s 0us/step\n",
            "40960/29515 [=========================================] - 0s 0us/step\n",
            "Downloading data from https://storage.googleapis.com/tensorflow/tf-keras-datasets/train-images-idx3-ubyte.gz\n",
            "26427392/26421880 [==============================] - 0s 0us/step\n",
            "26435584/26421880 [==============================] - 0s 0us/step\n",
            "Downloading data from https://storage.googleapis.com/tensorflow/tf-keras-datasets/t10k-labels-idx1-ubyte.gz\n",
            "16384/5148 [===============================================================================================] - 0s 0us/step\n",
            "Downloading data from https://storage.googleapis.com/tensorflow/tf-keras-datasets/t10k-images-idx3-ubyte.gz\n",
            "4423680/4422102 [==============================] - 0s 0us/step\n",
            "4431872/4422102 [==============================] - 0s 0us/step\n"
          ]
        }
      ]
    },
    {
      "cell_type": "code",
      "source": [
        "import numpy as np\n",
        "import matplotlib.pyplot as plt\n",
        "\n",
        "# You can put between 0 to 59999 here\n",
        "index = 6000\n",
        "\n",
        "# Set number of characters per row when printing\n",
        "np.set_printoptions(linewidth=320)\n",
        "\n",
        "# Print the label and image\n",
        "print(f'LABEL: {training_labels[index]}')\n",
        "print(f'\\nIMAGE PIXEL ARRAY:\\n {training_images[index]}')\n",
        "\n",
        "# Visualize the image\n",
        "plt.imshow(training_images[index])"
      ],
      "metadata": {
        "colab": {
          "base_uri": "https://localhost:8080/",
          "height": 866
        },
        "id": "bCB8ixXZXsPC",
        "outputId": "97f57989-33c0-46e7-9afb-6abd7a9fb1e5"
      },
      "execution_count": null,
      "outputs": [
        {
          "output_type": "stream",
          "name": "stdout",
          "text": [
            "LABEL: 8\n",
            "\n",
            "IMAGE PIXEL ARRAY:\n",
            " [[  0   0   0   0   0   0   3   0   0   0  48  73  96 110 115 110 115 107  90  72  50  25   0   0   1   1   0   0]\n",
            " [  0   0   0   1   0   5   0  15 185 243 244 247 245 245 244 247 246 247 250 251 246 247 227  42   0   1   0   0]\n",
            " [  0   0   0   0   4   0   4 220 105  56 114  73  81  99  76  38 136  68  18  82  73  11 129 240   0   0   1   0]\n",
            " [  0   0   1   0   1   0 139 190   8 174  79  63  70 119  48 110  30  55 139 147  50 135   0 227 108   0   0   0]\n",
            " [  0   0   1   0   0   0 203 213   2 113 173 102 111 182  63   6 143  45  72 255  62   0  81 227 182   0   0   0]\n",
            " [  0   0   1   0   0   0 214 190 202  71  64 113 109 157  39 191 255  29 174 198  74  40 113 234 182   0   0   0]\n",
            " [  0   0   0   1   0  26 204 174  20  49 177  45   0 172   0 221 227  18  44  80  76 120   0 197 195   0   0   0]\n",
            " [  0   0   0   0  15 133 197 217 134 126 219 105 241 239 117 156 155 144 147 168 141 182 255 214 197 138   0   0]\n",
            " [  0   0   0   5 178 235 194 206   0  40 122  48 170  14   0   0   0   0   2   1   0   0 151 231 210 194   0   0]\n",
            " [  0   0  82 147  32 210 189 241  16   0 245 231  56   0  39  29   9   8   7  23  42  22   0 216 209 146   0   0]\n",
            " [  0   0  46 255 161 108 217 160  12   9 207 255  47   5  29  26  68  50  64  58  20  42   0 211 208 205  36   0]\n",
            " [  0   0   0 249 197 112 205 185 205 213 211 225  52  10   3  96 242 220 241 201   0  17   0 208 202 239 202   0]\n",
            " [  0   0   0  59 146 248 188 197 227 221 212 255  53  11   1  78 228 207 224 171   6  43  10 197 204 238 173   0]\n",
            " [  0   0   0   0 203 255 185 177 211 213 206 255  54  10   6 103 236 224 224 229 255 255 255 217 199 255  86   0]\n",
            " [  0   0   0 255 252 252 185 180 213 211 209 255  54   8  30  31  61  44  50  45  32  55 250 219 199 233  16   0]\n",
            " [  0   0  61 248 184   0 196 206 208 217 207 255  56   7  44  30  19  17  15  17  21   0  63 248 212 156  23   0]\n",
            " [  0   0  87 253  70   0 236 200 222 213 202 255  62   7  44  26   9   9   7  22  45  39   0 194 235 143  39   0]\n",
            " [  0   0  34 255  40   0 243 201 217 210 203 255  62   8  33  43  74  57  73  64  22  40   0 210 208 156  90   0]\n",
            " [  0   0   0 235  69   0 252 210 215 213 206 255  63  22   7 119 242 224 243 227   0  43   0 210 205 167 131   0]\n",
            " [  0   0   0  77 145   0 249 246 221 215 206 255  72  24  11  96 225 204 223 182   0  43   0 210 203 174 154   0]\n",
            " [  0   0   0   0 174 164 212 237 224 216 213 255  57   0   2 128 250 228 247 236   0  40   0 210 197 181 162   0]\n",
            " [  0   0   1   0  22 247 233 230 233 234 230 249 167  86  20  42 138 108 127 103  15  43   0 202 211 172 118   0]\n",
            " [  0   0   2   0  40 242 228 226 225 230 232 231 254 236 221 138   8  19   6  19  45  32   0 208 186 188 108   0]\n",
            " [  0   0   2   0  40 209 188 168 151 180 186 190 194 197 226 167  19  47  38  21  13   2 136 213 171 232  43   0]\n",
            " [  0   0   4   0  42 221 203 169 174 192 204 210 211 212 205 154  92 101  96 100  87 155 235 204 214 128   0   0]\n",
            " [  0   0   2   0  51 211 189 157 175 189 200 204 204 212 184 235 245 238 238 241 245 236 195  95  19   0   0   0]\n",
            " [  0   0   6   0  72 253 242 191 190 203 212 214 211 214 215 195 196 197 192 173 135  71   6   0   0   0   0   0]\n",
            " [  0   0   1   0   0  35  91 102 132 162 176 183 188 192 179   0   0   0   0   0   0   0   0   2   4   3   0   0]]\n"
          ]
        },
        {
          "output_type": "execute_result",
          "data": {
            "text/plain": [
              "<matplotlib.image.AxesImage at 0x7f931ecfe8d0>"
            ]
          },
          "metadata": {},
          "execution_count": 5
        },
        {
          "output_type": "display_data",
          "data": {
            "text/plain": [
              "<Figure size 432x288 with 1 Axes>"
            ],
            "image/png": "[encoded data removed]"
          },
          "metadata": {
            "needs_background": "light"
          }
        }
      ]
    },
    {
      "cell_type": "code",
      "source": [
        "# Normalize the pixel values of the train and test images\n",
        "training_images  = training_images / 255.0\n",
        "test_images = test_images / 255"
      ],
      "metadata": {
        "id": "kenA96_hYKSp"
      },
      "execution_count": null,
      "outputs": []
    },
    {
      "cell_type": "code",
      "source": [
        "# Build the classification model\n",
        "model = tf.keras.models.Sequential([tf.keras.layers.Flatten(), \n",
        "                                    tf.keras.layers.Dense(128, activation=tf.nn.relu), \n",
        "                                    tf.keras.layers.Dense(10, activation=tf.nn.softmax)])"
      ],
      "metadata": {
        "id": "sUE6B4swYzdH"
      },
      "execution_count": null,
      "outputs": []
    },
    {
      "cell_type": "code",
      "source": [
        "# Declare sample inputs and convert to a tensor\n",
        "inputs = np.array([[1.0, 3.0, 4.0, 2.0]])\n",
        "inputs = tf.convert_to_tensor(inputs)\n",
        "print(f'input to softmax function: {inputs.numpy()}')\n",
        "\n",
        "# Feed the inputs to a softmax activation function\n",
        "outputs = tf.keras.activations.softmax(inputs)\n",
        "print(f'output of softmax function: {outputs.numpy()}')\n",
        "\n",
        "# Get the sum of all values after the softmax\n",
        "sum = tf.reduce_sum(outputs)\n",
        "print(f'sum of outputs: {sum}')\n",
        "\n",
        "# Get the index with highest value\n",
        "prediction = np.argmax(outputs)\n",
        "print(f'class with highest probability: {prediction}')"
      ],
      "metadata": {
        "colab": {
          "base_uri": "https://localhost:8080/"
        },
        "id": "75Q7I4M3aSAQ",
        "outputId": "b0c0ab16-24c4-44c3-9b75-f6817e15d383"
      },
      "execution_count": null,
      "outputs": [
        {
          "output_type": "stream",
          "name": "stdout",
          "text": [
            "input to softmax function: [[1. 3. 4. 2.]]\n",
            "output of softmax function: [[0.0320586  0.23688282 0.64391426 0.08714432]]\n",
            "sum of outputs: 1.0\n",
            "class with highest probability: 2\n"
          ]
        }
      ]
    },
    {
      "cell_type": "code",
      "source": [
        "#Fitting model\n",
        "model.compile(optimizer = tf.optimizers.Adam(),\n",
        "              loss = 'sparse_categorical_crossentropy',\n",
        "              metrics=['accuracy'])\n",
        "\n",
        "model.fit(training_images, training_labels, epochs=5)"
      ],
      "metadata": {
        "id": "ObGNiUqwbxeU",
        "colab": {
          "base_uri": "https://localhost:8080/"
        },
        "outputId": "c4bf68b1-8528-4dba-cecd-dff3010473f1"
      },
      "execution_count": null,
      "outputs": [
        {
          "output_type": "stream",
          "name": "stdout",
          "text": [
            "Epoch 1/5\n",
            "1875/1875 [==============================] - 12s 6ms/step - loss: 0.4985 - accuracy: 0.8253\n",
            "Epoch 2/5\n",
            "1875/1875 [==============================] - 11s 6ms/step - loss: 0.3737 - accuracy: 0.8648\n",
            "Epoch 3/5\n",
            "1875/1875 [==============================] - 5s 3ms/step - loss: 0.3372 - accuracy: 0.8772\n",
            "Epoch 4/5\n",
            "1875/1875 [==============================] - 5s 3ms/step - loss: 0.3132 - accuracy: 0.8853\n",
            "Epoch 5/5\n",
            "1875/1875 [==============================] - 4s 2ms/step - loss: 0.2925 - accuracy: 0.8926\n"
          ]
        },
        {
          "output_type": "execute_result",
          "data": {
            "text/plain": [
              "<keras.callbacks.History at 0x7f9318cbb590>"
            ]
          },
          "metadata": {},
          "execution_count": 9
        }
      ]
    },
    {
      "cell_type": "code",
      "source": [
        ""
      ],
      "metadata": {
        "id": "juJb58VM7di4"
      },
      "execution_count": null,
      "outputs": []
    }
  ]
}